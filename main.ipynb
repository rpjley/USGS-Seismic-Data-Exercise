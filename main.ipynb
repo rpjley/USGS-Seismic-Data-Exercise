{
  "nbformat": 4,
  "nbformat_minor": 0,
  "metadata": {
    "colab": {
      "provenance": []
    },
    "kernelspec": {
      "name": "python3",
      "display_name": "Python 3"
    },
    "language_info": {
      "name": "python"
    }
  },
  "cells": [
    {
      "cell_type": "markdown",
      "source": [
        "### Exercise SEP Developer Test"
      ],
      "metadata": {
        "id": "TJe6BmxN3Plw"
      }
    },
    {
      "cell_type": "markdown",
      "source": [
        "This test is designed to assess your ability to design and develop a project from a limited set of goals, provided below. We will evaluate your project based on its fulfillment of the outlined objectives, code efficiency, readability, and adherence to best practices. Additionally, we will evaluate the structure and content of your GitHub repository according to standard practices.\n",
        "\n",
        "1. Please perform all coding within the Google Colab environment: http://colab.research.google.com\n",
        "    * Please store your project in a GitHub repository, so we can fork and run it in Colab.\n",
        "        * Additionally, please create a standard GitHub repository with the expected files and directory structure.    \n",
        "    * Please note that Colab doesn't automatically include additional files. To avoid potential issues, we recommend only including files that the evaluators already have access to.    \n",
        "    * The evaluators will use the files SEP01.mseed, SEP02.mseed, and SEP03.mseed, which can be found in this GitHub project.\n",
        "2. Import the mseed files\n",
        "3. Create a database with proper normal form and constraints\n",
        "4. Import the data into the newly created database\n",
        "5. Create a visualization for the data. The visualization can be static but must include:    \n",
        "    * A title\n",
        "    * Text section displaying metadata about the miniseed data\n",
        "    * Helicorder-style charts of the miniseed data (These may be built from the database data or the mseed files)\n",
        "    * A map with icons indicating station locations based on the miniseed data (station lat and lon can be found on iris' API)\n",
        "    * Add to the map additional stations found on IRIS' data API. Stations of interest include HOA and SUG\n",
        "        * Data API information can be found at http://service.iris.edu/fdsnws/station/1/\n",
        "\n"
      ],
      "metadata": {
        "collapsed": false,
        "id": "a5f77d4a004bc4ad"
      }
    }
  ]
}